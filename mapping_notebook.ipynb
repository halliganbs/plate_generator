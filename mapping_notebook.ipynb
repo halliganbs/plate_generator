{
 "cells": [
  {
   "cell_type": "markdown",
   "metadata": {},
   "source": [
    "# Plate Mapper\n",
    "\n",
    "## Instructions\n",
    "\n",
    "1. run first cell and selected inputs `csv` and output directory\n",
    "2. Enter something or nother and do the things\n",
    "3. ...\n",
    "4. save plate, meta, random csvs"
   ]
  },
  {
   "cell_type": "code",
   "execution_count": 1,
   "metadata": {},
   "outputs": [
    {
     "data": {
      "application/vnd.jupyter.widget-view+json": {
       "model_id": "222ee63ff50341bb87b3024811ee4ab4",
       "version_major": 2,
       "version_minor": 0
      },
      "text/plain": [
       "FileChooser(path='/hdd/project/plate_generator', filename='', title='HTML(value='Select source csv')', show_hi…"
      ]
     },
     "metadata": {},
     "output_type": "display_data"
    },
    {
     "data": {
      "application/vnd.jupyter.widget-view+json": {
       "model_id": "ef20f0fab4b04f2e858acc68543b5cfa",
       "version_major": 2,
       "version_minor": 0
      },
      "text/plain": [
       "FileChooser(path='/hdd/project/plate_generator', filename='', title='HTML(value='output directory')', show_hid…"
      ]
     },
     "metadata": {},
     "output_type": "display_data"
    }
   ],
   "source": [
    "import platemapper\n",
    "import pandas as pd\n",
    "import re # REEEEE\n",
    "\n",
    "from ipyfilechooser import FileChooser\n",
    "\n",
    "sfc = FileChooser()\n",
    "sfc.title = 'Select source csv'\n",
    "fc = platemapper.make_chooser('output directory')\n",
    "display(sfc)\n",
    "display(fc)"
   ]
  },
  {
   "cell_type": "code",
   "execution_count": 2,
   "metadata": {},
   "outputs": [],
   "source": [
    "source = sfc.selected\n",
    "out = fc.selected_path"
   ]
  },
  {
   "cell_type": "code",
   "execution_count": 3,
   "metadata": {},
   "outputs": [
    {
     "data": {
      "text/html": [
       "<div>\n",
       "<style scoped>\n",
       "    .dataframe tbody tr th:only-of-type {\n",
       "        vertical-align: middle;\n",
       "    }\n",
       "\n",
       "    .dataframe tbody tr th {\n",
       "        vertical-align: top;\n",
       "    }\n",
       "\n",
       "    .dataframe thead th {\n",
       "        text-align: right;\n",
       "    }\n",
       "</style>\n",
       "<table border=\"1\" class=\"dataframe\">\n",
       "  <thead>\n",
       "    <tr style=\"text-align: right;\">\n",
       "      <th></th>\n",
       "      <th>CatalogNumber</th>\n",
       "      <th>ProductName</th>\n",
       "      <th>PlateLocation</th>\n",
       "      <th>384PlateName</th>\n",
       "      <th>M.w.</th>\n",
       "      <th>CASNumber</th>\n",
       "      <th>Target</th>\n",
       "      <th>DMSO(mg/mL)MaxSolubility</th>\n",
       "      <th>DMSO(mM)MaxSolubility</th>\n",
       "      <th>water(mg/mL)MaxSolubility</th>\n",
       "      <th>...</th>\n",
       "      <th>Pathway</th>\n",
       "      <th>Formula</th>\n",
       "      <th>Form</th>\n",
       "      <th>Synonyms</th>\n",
       "      <th>SMILES</th>\n",
       "      <th>ALogP</th>\n",
       "      <th>HBA_Count</th>\n",
       "      <th>HBD_Count</th>\n",
       "      <th>RotatableBond</th>\n",
       "      <th>MW REID</th>\n",
       "    </tr>\n",
       "  </thead>\n",
       "  <tbody>\n",
       "    <tr>\n",
       "      <th>0</th>\n",
       "      <td>S1002</td>\n",
       "      <td>ABT-737</td>\n",
       "      <td>A3</td>\n",
       "      <td>L1700-384-01</td>\n",
       "      <td>813.43</td>\n",
       "      <td>852808-04-9</td>\n",
       "      <td>Bcl-2,Autophagy</td>\n",
       "      <td>100</td>\n",
       "      <td>122.9362084</td>\n",
       "      <td>&lt;1</td>\n",
       "      <td>...</td>\n",
       "      <td>Apoptosis</td>\n",
       "      <td>C42H45ClN6O5S2</td>\n",
       "      <td>free base</td>\n",
       "      <td>NaN</td>\n",
       "      <td>CN(C)CC[C@H](CSC1=CC=CC=C1)NC1=CC=C(C=C1[N+]([...</td>\n",
       "      <td>8.198</td>\n",
       "      <td>3.0</td>\n",
       "      <td>2.0</td>\n",
       "      <td>16.0</td>\n",
       "      <td>813.43000</td>\n",
       "    </tr>\n",
       "    <tr>\n",
       "      <th>1</th>\n",
       "      <td>S1003</td>\n",
       "      <td>Linifanib (ABT-869)</td>\n",
       "      <td>C3</td>\n",
       "      <td>L1700-384-01</td>\n",
       "      <td>375.41</td>\n",
       "      <td>796967-16-3</td>\n",
       "      <td>CSF-1R,PDGFR,VEGFR</td>\n",
       "      <td>75</td>\n",
       "      <td>199.7815721</td>\n",
       "      <td>&lt;1</td>\n",
       "      <td>...</td>\n",
       "      <td>Protein Tyrosine Kinase</td>\n",
       "      <td>C21H18FN5O</td>\n",
       "      <td>free base</td>\n",
       "      <td>AL39324,RG3635</td>\n",
       "      <td>CC1=CC(NC(=O)NC2=CC=C(C=C2)C2=C3C(N)=NNC3=CC=C...</td>\n",
       "      <td>4.169</td>\n",
       "      <td>2.0</td>\n",
       "      <td>4.0</td>\n",
       "      <td>3.0</td>\n",
       "      <td>375.41000</td>\n",
       "    </tr>\n",
       "    <tr>\n",
       "      <th>2</th>\n",
       "      <td>S1004</td>\n",
       "      <td>Veliparib (ABT-888)</td>\n",
       "      <td>E3</td>\n",
       "      <td>L1700-384-01</td>\n",
       "      <td>244.29</td>\n",
       "      <td>912444-00-9</td>\n",
       "      <td>PARP</td>\n",
       "      <td>17</td>\n",
       "      <td>69.58942241</td>\n",
       "      <td>&lt;1</td>\n",
       "      <td>...</td>\n",
       "      <td>DNA Damage</td>\n",
       "      <td>C13H16N4O</td>\n",
       "      <td>free base</td>\n",
       "      <td>NSC 737664</td>\n",
       "      <td>C[C@@]1(CCCN1)C1=NC2=C(C=CC=C2N1)C(N)=O |r,c:1...</td>\n",
       "      <td>0.986</td>\n",
       "      <td>2.0</td>\n",
       "      <td>3.0</td>\n",
       "      <td>2.0</td>\n",
       "      <td>244.29000</td>\n",
       "    </tr>\n",
       "    <tr>\n",
       "      <th>3</th>\n",
       "      <td>S1005</td>\n",
       "      <td>Axitinib</td>\n",
       "      <td>G3</td>\n",
       "      <td>L1700-384-01</td>\n",
       "      <td>386.47</td>\n",
       "      <td>319460-85-0</td>\n",
       "      <td>c-Kit,PDGFR,VEGFR</td>\n",
       "      <td>35</td>\n",
       "      <td>90.56330375</td>\n",
       "      <td>&lt;1</td>\n",
       "      <td>...</td>\n",
       "      <td>Protein Tyrosine Kinase</td>\n",
       "      <td>C22H18N4OS</td>\n",
       "      <td>free base</td>\n",
       "      <td>AG 013736</td>\n",
       "      <td>CNC(=O)C1=CC=CC=C1SC1=CC2=C(C=C1)C(\\C=C\\C1=CC=...</td>\n",
       "      <td>4.492</td>\n",
       "      <td>3.0</td>\n",
       "      <td>2.0</td>\n",
       "      <td>5.0</td>\n",
       "      <td>386.47000</td>\n",
       "    </tr>\n",
       "    <tr>\n",
       "      <th>4</th>\n",
       "      <td>S1006</td>\n",
       "      <td>Saracatinib (AZD0530)</td>\n",
       "      <td>I3</td>\n",
       "      <td>L1700-384-01</td>\n",
       "      <td>542.03</td>\n",
       "      <td>379231-04-6</td>\n",
       "      <td>Src</td>\n",
       "      <td>35</td>\n",
       "      <td>64.57207166</td>\n",
       "      <td>&lt;1</td>\n",
       "      <td>...</td>\n",
       "      <td>Angiogenesis</td>\n",
       "      <td>C27H32ClN5O5</td>\n",
       "      <td>free base</td>\n",
       "      <td>NaN</td>\n",
       "      <td>CN1CCN(CCOC2=CC(OC3CCOCC3)=C3C(NC4=C(Cl)C=CC5=...</td>\n",
       "      <td>3.814</td>\n",
       "      <td>7.0</td>\n",
       "      <td>1.0</td>\n",
       "      <td>8.0</td>\n",
       "      <td>542.03000</td>\n",
       "    </tr>\n",
       "  </tbody>\n",
       "</table>\n",
       "<p>5 rows × 23 columns</p>\n",
       "</div>"
      ],
      "text/plain": [
       "  CatalogNumber            ProductName PlateLocation  384PlateName    M.w.  \\\n",
       "0         S1002                ABT-737            A3  L1700-384-01  813.43   \n",
       "1         S1003    Linifanib (ABT-869)            C3  L1700-384-01  375.41   \n",
       "2         S1004    Veliparib (ABT-888)            E3  L1700-384-01  244.29   \n",
       "3         S1005               Axitinib            G3  L1700-384-01  386.47   \n",
       "4         S1006  Saracatinib (AZD0530)            I3  L1700-384-01  542.03   \n",
       "\n",
       "     CASNumber              Target  DMSO(mg/mL)MaxSolubility   \\\n",
       "0  852808-04-9     Bcl-2,Autophagy                        100   \n",
       "1  796967-16-3  CSF-1R,PDGFR,VEGFR                         75   \n",
       "2  912444-00-9                PARP                         17   \n",
       "3  319460-85-0   c-Kit,PDGFR,VEGFR                         35   \n",
       "4  379231-04-6                 Src                         35   \n",
       "\n",
       "  DMSO(mM)MaxSolubility water(mg/mL)MaxSolubility  ...  \\\n",
       "0           122.9362084                        <1  ...   \n",
       "1           199.7815721                        <1  ...   \n",
       "2           69.58942241                        <1  ...   \n",
       "3           90.56330375                        <1  ...   \n",
       "4           64.57207166                        <1  ...   \n",
       "\n",
       "                   Pathway         Formula       Form        Synonyms  \\\n",
       "0                Apoptosis  C42H45ClN6O5S2  free base             NaN   \n",
       "1  Protein Tyrosine Kinase      C21H18FN5O  free base  AL39324,RG3635   \n",
       "2               DNA Damage       C13H16N4O  free base      NSC 737664   \n",
       "3  Protein Tyrosine Kinase      C22H18N4OS  free base       AG 013736   \n",
       "4             Angiogenesis    C27H32ClN5O5  free base             NaN   \n",
       "\n",
       "                                              SMILES  ALogP HBA_Count  \\\n",
       "0  CN(C)CC[C@H](CSC1=CC=CC=C1)NC1=CC=C(C=C1[N+]([...  8.198       3.0   \n",
       "1  CC1=CC(NC(=O)NC2=CC=C(C=C2)C2=C3C(N)=NNC3=CC=C...  4.169       2.0   \n",
       "2  C[C@@]1(CCCN1)C1=NC2=C(C=CC=C2N1)C(N)=O |r,c:1...  0.986       2.0   \n",
       "3  CNC(=O)C1=CC=CC=C1SC1=CC2=C(C=C1)C(\\C=C\\C1=CC=...  4.492       3.0   \n",
       "4  CN1CCN(CCOC2=CC(OC3CCOCC3)=C3C(NC4=C(Cl)C=CC5=...  3.814       7.0   \n",
       "\n",
       "  HBD_Count  RotatableBond    MW REID  \n",
       "0       2.0           16.0  813.43000  \n",
       "1       4.0            3.0  375.41000  \n",
       "2       3.0            2.0  244.29000  \n",
       "3       2.0            5.0  386.47000  \n",
       "4       1.0            8.0  542.03000  \n",
       "\n",
       "[5 rows x 23 columns]"
      ]
     },
     "execution_count": 3,
     "metadata": {},
     "output_type": "execute_result"
    }
   ],
   "source": [
    "sp = pd.read_csv(source, encoding='utf-8')\n",
    "sp.head()"
   ]
  },
  {
   "cell_type": "code",
   "execution_count": 36,
   "metadata": {},
   "outputs": [],
   "source": [
    "from IPython.display import *\n",
    "import ipywidgets as widgets\n",
    "from ipywidgets import *\n",
    "\n",
    "nameDrop = Dropdown(description='Compound',options=sp['ProductName'], value=None)\n",
    "diluteDrop = Dropdown(description='Select Dilute amount',options=['log2', '1/2'], value=None)"
   ]
  },
  {
   "cell_type": "code",
   "execution_count": 37,
   "metadata": {},
   "outputs": [
    {
     "data": {
      "application/vnd.jupyter.widget-view+json": {
       "model_id": "c1a6576ad63e41b4bdd210c4604a1391",
       "version_major": 2,
       "version_minor": 0
      },
      "text/plain": [
       "Dropdown(description='Compound', options=('ABT-737', 'Linifanib (ABT-869)', 'Veliparib (ABT-888)', 'Axitinib',…"
      ]
     },
     "metadata": {},
     "output_type": "display_data"
    }
   ],
   "source": [
    "def dropdown_handler(change):\n",
    "    df = sp.loc[['ProductName'] == change.new]\n",
    "    return df\n",
    "# nameDrop.observe(dropdown_handler, names='value')\n",
    "nameDrop"
   ]
  },
  {
   "cell_type": "code",
   "execution_count": 38,
   "metadata": {},
   "outputs": [],
   "source": [
    "df = sp.loc[sp['ProductName'] == nameDrop.value]"
   ]
  },
  {
   "cell_type": "code",
   "execution_count": 39,
   "metadata": {},
   "outputs": [
    {
     "data": {
      "text/html": [
       "<div>\n",
       "<style scoped>\n",
       "    .dataframe tbody tr th:only-of-type {\n",
       "        vertical-align: middle;\n",
       "    }\n",
       "\n",
       "    .dataframe tbody tr th {\n",
       "        vertical-align: top;\n",
       "    }\n",
       "\n",
       "    .dataframe thead th {\n",
       "        text-align: right;\n",
       "    }\n",
       "</style>\n",
       "<table border=\"1\" class=\"dataframe\">\n",
       "  <thead>\n",
       "    <tr style=\"text-align: right;\">\n",
       "      <th></th>\n",
       "      <th>CatalogNumber</th>\n",
       "      <th>ProductName</th>\n",
       "      <th>PlateLocation</th>\n",
       "      <th>384PlateName</th>\n",
       "      <th>M.w.</th>\n",
       "      <th>CASNumber</th>\n",
       "      <th>Target</th>\n",
       "      <th>DMSO(mg/mL)MaxSolubility</th>\n",
       "      <th>DMSO(mM)MaxSolubility</th>\n",
       "      <th>water(mg/mL)MaxSolubility</th>\n",
       "      <th>...</th>\n",
       "      <th>Pathway</th>\n",
       "      <th>Formula</th>\n",
       "      <th>Form</th>\n",
       "      <th>Synonyms</th>\n",
       "      <th>SMILES</th>\n",
       "      <th>ALogP</th>\n",
       "      <th>HBA_Count</th>\n",
       "      <th>HBD_Count</th>\n",
       "      <th>RotatableBond</th>\n",
       "      <th>MW REID</th>\n",
       "    </tr>\n",
       "  </thead>\n",
       "  <tbody>\n",
       "    <tr>\n",
       "      <th>2</th>\n",
       "      <td>S1004</td>\n",
       "      <td>Veliparib (ABT-888)</td>\n",
       "      <td>E3</td>\n",
       "      <td>L1700-384-01</td>\n",
       "      <td>244.29</td>\n",
       "      <td>912444-00-9</td>\n",
       "      <td>PARP</td>\n",
       "      <td>17</td>\n",
       "      <td>69.58942241</td>\n",
       "      <td>&lt;1</td>\n",
       "      <td>...</td>\n",
       "      <td>DNA Damage</td>\n",
       "      <td>C13H16N4O</td>\n",
       "      <td>free base</td>\n",
       "      <td>NSC 737664</td>\n",
       "      <td>C[C@@]1(CCCN1)C1=NC2=C(C=CC=C2N1)C(N)=O |r,c:1...</td>\n",
       "      <td>0.986</td>\n",
       "      <td>2.0</td>\n",
       "      <td>3.0</td>\n",
       "      <td>2.0</td>\n",
       "      <td>244.29000</td>\n",
       "    </tr>\n",
       "  </tbody>\n",
       "</table>\n",
       "<p>1 rows × 23 columns</p>\n",
       "</div>"
      ],
      "text/plain": [
       "  CatalogNumber          ProductName PlateLocation  384PlateName    M.w.  \\\n",
       "2         S1004  Veliparib (ABT-888)            E3  L1700-384-01  244.29   \n",
       "\n",
       "     CASNumber Target  DMSO(mg/mL)MaxSolubility  DMSO(mM)MaxSolubility  \\\n",
       "2  912444-00-9   PARP                         17           69.58942241   \n",
       "\n",
       "  water(mg/mL)MaxSolubility  ...     Pathway    Formula       Form  \\\n",
       "2                        <1  ...  DNA Damage  C13H16N4O  free base   \n",
       "\n",
       "     Synonyms                                             SMILES  ALogP  \\\n",
       "2  NSC 737664  C[C@@]1(CCCN1)C1=NC2=C(C=CC=C2N1)C(N)=O |r,c:1...  0.986   \n",
       "\n",
       "  HBA_Count HBD_Count  RotatableBond    MW REID  \n",
       "2       2.0       3.0            2.0  244.29000  \n",
       "\n",
       "[1 rows x 23 columns]"
      ]
     },
     "execution_count": 39,
     "metadata": {},
     "output_type": "execute_result"
    }
   ],
   "source": [
    "df"
   ]
  },
  {
   "cell_type": "code",
   "execution_count": 40,
   "metadata": {},
   "outputs": [
    {
     "data": {
      "text/plain": [
       "'Veliparib (ABT-888)'"
      ]
     },
     "execution_count": 40,
     "metadata": {},
     "output_type": "execute_result"
    }
   ],
   "source": [
    "nameDrop.value"
   ]
  },
  {
   "cell_type": "code",
   "execution_count": 44,
   "metadata": {},
   "outputs": [],
   "source": [
    "sId, sW, comp, = df['384PlateName'].values[0],df['PlateLocation'].values[0],df['ProductName'].values[0]"
   ]
  },
  {
   "cell_type": "code",
   "execution_count": 45,
   "metadata": {},
   "outputs": [
    {
     "name": "stdout",
     "output_type": "stream",
     "text": [
      "L1700-384-01 E3 Veliparib (ABT-888)\n"
     ]
    }
   ],
   "source": [
    "print(sId, sW, comp)"
   ]
  },
  {
   "cell_type": "code",
   "execution_count": 51,
   "metadata": {},
   "outputs": [],
   "source": [
    "destplate = 'destplate' # destplate\n",
    "max_back, dilute = 125.0, '1/2'\n",
    "destWell = platemapper.get_wellIDs(2, 5, 0)\n",
    "transVol, backVol =platemapper.cal_transVol(max_back, dilute, 5)\n",
    "dt = platemapper.generate_df(sourceId=sId, sourceWell=sW, destID=destplate, compound=comp, steps=5, destWell=destWell,\n",
    "                         transVol=transVol, backVol=backVol)"
   ]
  },
  {
   "cell_type": "code",
   "execution_count": 52,
   "metadata": {},
   "outputs": [
    {
     "data": {
      "text/html": [
       "<div>\n",
       "<style scoped>\n",
       "    .dataframe tbody tr th:only-of-type {\n",
       "        vertical-align: middle;\n",
       "    }\n",
       "\n",
       "    .dataframe tbody tr th {\n",
       "        vertical-align: top;\n",
       "    }\n",
       "\n",
       "    .dataframe thead th {\n",
       "        text-align: right;\n",
       "    }\n",
       "</style>\n",
       "<table border=\"1\" class=\"dataframe\">\n",
       "  <thead>\n",
       "    <tr style=\"text-align: right;\">\n",
       "      <th></th>\n",
       "      <th>sourceID</th>\n",
       "      <th>sourceWell</th>\n",
       "      <th>destID</th>\n",
       "      <th>destWell</th>\n",
       "      <th>transferVol</th>\n",
       "      <th>backfillVol</th>\n",
       "      <th>compound</th>\n",
       "    </tr>\n",
       "  </thead>\n",
       "  <tbody>\n",
       "    <tr>\n",
       "      <th>0</th>\n",
       "      <td>L1700-384-01</td>\n",
       "      <td>E3</td>\n",
       "      <td>destplate</td>\n",
       "      <td>A3</td>\n",
       "      <td>125.000</td>\n",
       "      <td>0.000</td>\n",
       "      <td>Veliparib (ABT-888)</td>\n",
       "    </tr>\n",
       "    <tr>\n",
       "      <th>1</th>\n",
       "      <td>L1700-384-01</td>\n",
       "      <td>E3</td>\n",
       "      <td>destplate</td>\n",
       "      <td>A4</td>\n",
       "      <td>62.500</td>\n",
       "      <td>62.500</td>\n",
       "      <td>Veliparib (ABT-888)</td>\n",
       "    </tr>\n",
       "    <tr>\n",
       "      <th>2</th>\n",
       "      <td>L1700-384-01</td>\n",
       "      <td>E3</td>\n",
       "      <td>destplate</td>\n",
       "      <td>A5</td>\n",
       "      <td>31.250</td>\n",
       "      <td>93.750</td>\n",
       "      <td>Veliparib (ABT-888)</td>\n",
       "    </tr>\n",
       "    <tr>\n",
       "      <th>3</th>\n",
       "      <td>L1700-384-01</td>\n",
       "      <td>E3</td>\n",
       "      <td>destplate</td>\n",
       "      <td>A6</td>\n",
       "      <td>15.625</td>\n",
       "      <td>109.375</td>\n",
       "      <td>Veliparib (ABT-888)</td>\n",
       "    </tr>\n",
       "    <tr>\n",
       "      <th>4</th>\n",
       "      <td>L1700-384-01</td>\n",
       "      <td>E3</td>\n",
       "      <td>destplate</td>\n",
       "      <td>A7</td>\n",
       "      <td>0.000</td>\n",
       "      <td>125.000</td>\n",
       "      <td>Veliparib (ABT-888)</td>\n",
       "    </tr>\n",
       "    <tr>\n",
       "      <th>5</th>\n",
       "      <td>L1700-384-01</td>\n",
       "      <td>E3</td>\n",
       "      <td>destplate</td>\n",
       "      <td>B3</td>\n",
       "      <td>125.000</td>\n",
       "      <td>0.000</td>\n",
       "      <td>Veliparib (ABT-888)</td>\n",
       "    </tr>\n",
       "    <tr>\n",
       "      <th>6</th>\n",
       "      <td>L1700-384-01</td>\n",
       "      <td>E3</td>\n",
       "      <td>destplate</td>\n",
       "      <td>B4</td>\n",
       "      <td>62.500</td>\n",
       "      <td>62.500</td>\n",
       "      <td>Veliparib (ABT-888)</td>\n",
       "    </tr>\n",
       "    <tr>\n",
       "      <th>7</th>\n",
       "      <td>L1700-384-01</td>\n",
       "      <td>E3</td>\n",
       "      <td>destplate</td>\n",
       "      <td>B5</td>\n",
       "      <td>31.250</td>\n",
       "      <td>93.750</td>\n",
       "      <td>Veliparib (ABT-888)</td>\n",
       "    </tr>\n",
       "    <tr>\n",
       "      <th>8</th>\n",
       "      <td>L1700-384-01</td>\n",
       "      <td>E3</td>\n",
       "      <td>destplate</td>\n",
       "      <td>B6</td>\n",
       "      <td>15.625</td>\n",
       "      <td>109.375</td>\n",
       "      <td>Veliparib (ABT-888)</td>\n",
       "    </tr>\n",
       "    <tr>\n",
       "      <th>9</th>\n",
       "      <td>L1700-384-01</td>\n",
       "      <td>E3</td>\n",
       "      <td>destplate</td>\n",
       "      <td>B7</td>\n",
       "      <td>0.000</td>\n",
       "      <td>125.000</td>\n",
       "      <td>Veliparib (ABT-888)</td>\n",
       "    </tr>\n",
       "    <tr>\n",
       "      <th>10</th>\n",
       "      <td>L1700-384-01</td>\n",
       "      <td>E3</td>\n",
       "      <td>destplate</td>\n",
       "      <td>C3</td>\n",
       "      <td>125.000</td>\n",
       "      <td>0.000</td>\n",
       "      <td>Veliparib (ABT-888)</td>\n",
       "    </tr>\n",
       "    <tr>\n",
       "      <th>11</th>\n",
       "      <td>L1700-384-01</td>\n",
       "      <td>E3</td>\n",
       "      <td>destplate</td>\n",
       "      <td>C4</td>\n",
       "      <td>62.500</td>\n",
       "      <td>62.500</td>\n",
       "      <td>Veliparib (ABT-888)</td>\n",
       "    </tr>\n",
       "    <tr>\n",
       "      <th>12</th>\n",
       "      <td>L1700-384-01</td>\n",
       "      <td>E3</td>\n",
       "      <td>destplate</td>\n",
       "      <td>C5</td>\n",
       "      <td>31.250</td>\n",
       "      <td>93.750</td>\n",
       "      <td>Veliparib (ABT-888)</td>\n",
       "    </tr>\n",
       "    <tr>\n",
       "      <th>13</th>\n",
       "      <td>L1700-384-01</td>\n",
       "      <td>E3</td>\n",
       "      <td>destplate</td>\n",
       "      <td>C6</td>\n",
       "      <td>15.625</td>\n",
       "      <td>109.375</td>\n",
       "      <td>Veliparib (ABT-888)</td>\n",
       "    </tr>\n",
       "    <tr>\n",
       "      <th>14</th>\n",
       "      <td>L1700-384-01</td>\n",
       "      <td>E3</td>\n",
       "      <td>destplate</td>\n",
       "      <td>C7</td>\n",
       "      <td>0.000</td>\n",
       "      <td>125.000</td>\n",
       "      <td>Veliparib (ABT-888)</td>\n",
       "    </tr>\n",
       "  </tbody>\n",
       "</table>\n",
       "</div>"
      ],
      "text/plain": [
       "        sourceID sourceWell     destID destWell  transferVol  backfillVol  \\\n",
       "0   L1700-384-01         E3  destplate       A3      125.000        0.000   \n",
       "1   L1700-384-01         E3  destplate       A4       62.500       62.500   \n",
       "2   L1700-384-01         E3  destplate       A5       31.250       93.750   \n",
       "3   L1700-384-01         E3  destplate       A6       15.625      109.375   \n",
       "4   L1700-384-01         E3  destplate       A7        0.000      125.000   \n",
       "5   L1700-384-01         E3  destplate       B3      125.000        0.000   \n",
       "6   L1700-384-01         E3  destplate       B4       62.500       62.500   \n",
       "7   L1700-384-01         E3  destplate       B5       31.250       93.750   \n",
       "8   L1700-384-01         E3  destplate       B6       15.625      109.375   \n",
       "9   L1700-384-01         E3  destplate       B7        0.000      125.000   \n",
       "10  L1700-384-01         E3  destplate       C3      125.000        0.000   \n",
       "11  L1700-384-01         E3  destplate       C4       62.500       62.500   \n",
       "12  L1700-384-01         E3  destplate       C5       31.250       93.750   \n",
       "13  L1700-384-01         E3  destplate       C6       15.625      109.375   \n",
       "14  L1700-384-01         E3  destplate       C7        0.000      125.000   \n",
       "\n",
       "               compound  \n",
       "0   Veliparib (ABT-888)  \n",
       "1   Veliparib (ABT-888)  \n",
       "2   Veliparib (ABT-888)  \n",
       "3   Veliparib (ABT-888)  \n",
       "4   Veliparib (ABT-888)  \n",
       "5   Veliparib (ABT-888)  \n",
       "6   Veliparib (ABT-888)  \n",
       "7   Veliparib (ABT-888)  \n",
       "8   Veliparib (ABT-888)  \n",
       "9   Veliparib (ABT-888)  \n",
       "10  Veliparib (ABT-888)  \n",
       "11  Veliparib (ABT-888)  \n",
       "12  Veliparib (ABT-888)  \n",
       "13  Veliparib (ABT-888)  \n",
       "14  Veliparib (ABT-888)  "
      ]
     },
     "execution_count": 52,
     "metadata": {},
     "output_type": "execute_result"
    }
   ],
   "source": [
    "dt"
   ]
  },
  {
   "cell_type": "code",
   "execution_count": 68,
   "metadata": {},
   "outputs": [
    {
     "data": {
      "application/vnd.jupyter.widget-view+json": {
       "model_id": "baefe91ce0194781bc938c05a35a6151",
       "version_major": 2,
       "version_minor": 0
      },
      "text/plain": [
       "Text(value='Destination Plate', description='Destination')"
      ]
     },
     "metadata": {},
     "output_type": "display_data"
    },
    {
     "data": {
      "application/vnd.jupyter.widget-view+json": {
       "model_id": "38f29f53afcf4869b61d1e43b554e4fa",
       "version_major": 2,
       "version_minor": 0
      },
      "text/plain": [
       "Text(value='Max Volume per Well', description='Transfer Vol')"
      ]
     },
     "metadata": {},
     "output_type": "display_data"
    }
   ],
   "source": [
    "destField = Text(value='Destination Plate', description='Destination')\n",
    "fillField = Text(value='Max Volume per Well', description='Transfer Vol')\n",
    "display(destField)\n",
    "display(fillField)"
   ]
  },
  {
   "cell_type": "code",
   "execution_count": 64,
   "metadata": {},
   "outputs": [
    {
     "name": "stdout",
     "output_type": "stream",
     "text": [
      "<class 'str'>\n",
      "<class 'int'>\n"
     ]
    }
   ],
   "source": [
    "print(type(destField.value))\n",
    "print(type(int(float(fillField.value))))"
   ]
  },
  {
   "cell_type": "code",
   "execution_count": 65,
   "metadata": {},
   "outputs": [],
   "source": [
    "test = int(float(fillField.value))"
   ]
  },
  {
   "cell_type": "code",
   "execution_count": 66,
   "metadata": {},
   "outputs": [
    {
     "data": {
      "text/plain": [
       "125"
      ]
     },
     "execution_count": 66,
     "metadata": {},
     "output_type": "execute_result"
    }
   ],
   "source": [
    "test"
   ]
  },
  {
   "cell_type": "code",
   "execution_count": 67,
   "metadata": {},
   "outputs": [
    {
     "data": {
      "text/plain": [
       "62.5"
      ]
     },
     "execution_count": 67,
     "metadata": {},
     "output_type": "execute_result"
    }
   ],
   "source": [
    "test/2"
   ]
  },
  {
   "cell_type": "code",
   "execution_count": null,
   "metadata": {},
   "outputs": [],
   "source": []
  }
 ],
 "metadata": {
  "kernelspec": {
   "display_name": "Python 3",
   "language": "python",
   "name": "python3"
  },
  "language_info": {
   "codemirror_mode": {
    "name": "ipython",
    "version": 3
   },
   "file_extension": ".py",
   "mimetype": "text/x-python",
   "name": "python",
   "nbconvert_exporter": "python",
   "pygments_lexer": "ipython3",
   "version": "3.6.9"
  }
 },
 "nbformat": 4,
 "nbformat_minor": 4
}
