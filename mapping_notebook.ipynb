{
 "cells": [
  {
   "cell_type": "markdown",
   "metadata": {},
   "source": [
    "# Plate Mapper\n",
    "\n",
    "<!-- ![Sexton Labs](images/sextonlabs.png =336x410)\n",
    " -->\n",
    "<img src=\"images/sextonlabs.png\" width=\"20%\">\n",
    "\n",
    "## Instructions\n",
    "\n",
    "1. run first cell and selected inputs `csv` and output directory\n",
    "2. Fill out UI elements for compound\n",
    "3. Hit the go button\n",
    "4. Repeat for other compounds\n",
    "5. Run other cells, I'll add a button when I care\n",
    "6. Change save name for csv and run cell"
   ]
  },
  {
   "cell_type": "code",
   "execution_count": null,
   "metadata": {},
   "outputs": [],
   "source": [
    "import platemapper as mapper\n",
    "import pandas as pd\n",
    "import re # REEEEE\n",
    "\n",
    "from IPython.display import *\n",
    "import ipywidgets as widgets\n",
    "from ipywidgets import *\n",
    "\n",
    "import seaborn as sns\n",
    "import matplotlib as plt\n",
    "\n",
    "\n",
    "sfc = mapper.make_chooser('Select source csv', False)\n",
    "fc = mapper.make_chooser('output directory')\n",
    "display(VBox([sfc,fc]))"
   ]
  },
  {
   "cell_type": "code",
   "execution_count": null,
   "metadata": {
    "scrolled": true
   },
   "outputs": [],
   "source": [
    "source = sfc.selected\n",
    "out = fc.selected_path\n",
    "plate = mapper.Plate(source, out)\n",
    "display(VBox(plate.get_elements()))"
   ]
  },
  {
   "cell_type": "code",
   "execution_count": null,
   "metadata": {},
   "outputs": [],
   "source": [
    "plate.gen_plate()\n",
    "plate.save_plate()"
   ]
  },
  {
   "cell_type": "code",
   "execution_count": null,
   "metadata": {},
   "outputs": [],
   "source": []
  }
 ],
 "metadata": {
  "kernelspec": {
   "display_name": "Python 3",
   "language": "python",
   "name": "python3"
  },
  "language_info": {
   "codemirror_mode": {
    "name": "ipython",
    "version": 3
   },
   "file_extension": ".py",
   "mimetype": "text/x-python",
   "name": "python",
   "nbconvert_exporter": "python",
   "pygments_lexer": "ipython3",
   "version": "3.6.9"
  }
 },
 "nbformat": 4,
 "nbformat_minor": 4
}
