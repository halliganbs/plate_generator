{
 "cells": [
  {
   "cell_type": "markdown",
   "metadata": {},
   "source": [
    "# Plate Mapper\n",
    "\n",
    "## Instructions\n",
    "\n",
    "1. run first cell and selected inputs `csv` and output directory\n",
    "2. Enter something or nother and do the things\n",
    "3. ...\n",
    "4. save plate, meta, random csvs"
   ]
  },
  {
   "cell_type": "code",
   "execution_count": 1,
   "metadata": {},
   "outputs": [
    {
     "data": {
      "application/vnd.jupyter.widget-view+json": {
       "model_id": "0f5c3a582d064489bba97bb97c3a39b7",
       "version_major": 2,
       "version_minor": 0
      },
      "text/plain": [
       "FileChooser(path='/hdd/project/plate_generator', filename='', title='HTML(value='Select source csv')', show_hi…"
      ]
     },
     "metadata": {},
     "output_type": "display_data"
    },
    {
     "data": {
      "application/vnd.jupyter.widget-view+json": {
       "model_id": "0a19c2003d8c49ab998c9fc7f3a2c162",
       "version_major": 2,
       "version_minor": 0
      },
      "text/plain": [
       "FileChooser(path='/hdd/project/plate_generator', filename='', title='HTML(value='output directory')', show_hid…"
      ]
     },
     "metadata": {},
     "output_type": "display_data"
    }
   ],
   "source": [
    "import platemapper\n",
    "import pandas as pd\n",
    "import re # REEEEE\n",
    "\n",
    "from IPython.display import *\n",
    "import ipywidgets as widgets\n",
    "from ipywidgets import *\n",
    "from ipyfilechooser import FileChooser\n",
    "\n",
    "import seaborn as sns\n",
    "import matplotlib as plt\n",
    "\n",
    "\n",
    "sfc = FileChooser()\n",
    "sfc.title = 'Select source csv'\n",
    "fc = platemapper.make_chooser('output directory')\n",
    "display(sfc)\n",
    "display(fc)"
   ]
  },
  {
   "cell_type": "code",
   "execution_count": 10,
   "metadata": {
    "scrolled": true
   },
   "outputs": [
    {
     "data": {
      "text/html": [
       "<div>\n",
       "<style scoped>\n",
       "    .dataframe tbody tr th:only-of-type {\n",
       "        vertical-align: middle;\n",
       "    }\n",
       "\n",
       "    .dataframe tbody tr th {\n",
       "        vertical-align: top;\n",
       "    }\n",
       "\n",
       "    .dataframe thead th {\n",
       "        text-align: right;\n",
       "    }\n",
       "</style>\n",
       "<table border=\"1\" class=\"dataframe\">\n",
       "  <thead>\n",
       "    <tr style=\"text-align: right;\">\n",
       "      <th></th>\n",
       "      <th>CatalogNumber</th>\n",
       "      <th>ProductName</th>\n",
       "      <th>PlateLocation</th>\n",
       "      <th>384PlateName</th>\n",
       "      <th>M.w.</th>\n",
       "      <th>CASNumber</th>\n",
       "      <th>Target</th>\n",
       "      <th>DMSO(mg/mL)MaxSolubility</th>\n",
       "      <th>DMSO(mM)MaxSolubility</th>\n",
       "      <th>water(mg/mL)MaxSolubility</th>\n",
       "      <th>...</th>\n",
       "      <th>Pathway</th>\n",
       "      <th>Formula</th>\n",
       "      <th>Form</th>\n",
       "      <th>Synonyms</th>\n",
       "      <th>SMILES</th>\n",
       "      <th>ALogP</th>\n",
       "      <th>HBA_Count</th>\n",
       "      <th>HBD_Count</th>\n",
       "      <th>RotatableBond</th>\n",
       "      <th>MW REID</th>\n",
       "    </tr>\n",
       "  </thead>\n",
       "  <tbody>\n",
       "    <tr>\n",
       "      <th>0</th>\n",
       "      <td>S1002</td>\n",
       "      <td>ABT-737</td>\n",
       "      <td>A3</td>\n",
       "      <td>L1700-384-01</td>\n",
       "      <td>813.43</td>\n",
       "      <td>852808-04-9</td>\n",
       "      <td>Bcl-2,Autophagy</td>\n",
       "      <td>100</td>\n",
       "      <td>122.9362084</td>\n",
       "      <td>&lt;1</td>\n",
       "      <td>...</td>\n",
       "      <td>Apoptosis</td>\n",
       "      <td>C42H45ClN6O5S2</td>\n",
       "      <td>free base</td>\n",
       "      <td>NaN</td>\n",
       "      <td>CN(C)CC[C@H](CSC1=CC=CC=C1)NC1=CC=C(C=C1[N+]([...</td>\n",
       "      <td>8.198</td>\n",
       "      <td>3.0</td>\n",
       "      <td>2.0</td>\n",
       "      <td>16.0</td>\n",
       "      <td>813.43000</td>\n",
       "    </tr>\n",
       "    <tr>\n",
       "      <th>1</th>\n",
       "      <td>S1003</td>\n",
       "      <td>Linifanib (ABT-869)</td>\n",
       "      <td>C3</td>\n",
       "      <td>L1700-384-01</td>\n",
       "      <td>375.41</td>\n",
       "      <td>796967-16-3</td>\n",
       "      <td>CSF-1R,PDGFR,VEGFR</td>\n",
       "      <td>75</td>\n",
       "      <td>199.7815721</td>\n",
       "      <td>&lt;1</td>\n",
       "      <td>...</td>\n",
       "      <td>Protein Tyrosine Kinase</td>\n",
       "      <td>C21H18FN5O</td>\n",
       "      <td>free base</td>\n",
       "      <td>AL39324,RG3635</td>\n",
       "      <td>CC1=CC(NC(=O)NC2=CC=C(C=C2)C2=C3C(N)=NNC3=CC=C...</td>\n",
       "      <td>4.169</td>\n",
       "      <td>2.0</td>\n",
       "      <td>4.0</td>\n",
       "      <td>3.0</td>\n",
       "      <td>375.41000</td>\n",
       "    </tr>\n",
       "    <tr>\n",
       "      <th>2</th>\n",
       "      <td>S1004</td>\n",
       "      <td>Veliparib (ABT-888)</td>\n",
       "      <td>E3</td>\n",
       "      <td>L1700-384-01</td>\n",
       "      <td>244.29</td>\n",
       "      <td>912444-00-9</td>\n",
       "      <td>PARP</td>\n",
       "      <td>17</td>\n",
       "      <td>69.58942241</td>\n",
       "      <td>&lt;1</td>\n",
       "      <td>...</td>\n",
       "      <td>DNA Damage</td>\n",
       "      <td>C13H16N4O</td>\n",
       "      <td>free base</td>\n",
       "      <td>NSC 737664</td>\n",
       "      <td>C[C@@]1(CCCN1)C1=NC2=C(C=CC=C2N1)C(N)=O |r,c:1...</td>\n",
       "      <td>0.986</td>\n",
       "      <td>2.0</td>\n",
       "      <td>3.0</td>\n",
       "      <td>2.0</td>\n",
       "      <td>244.29000</td>\n",
       "    </tr>\n",
       "    <tr>\n",
       "      <th>3</th>\n",
       "      <td>S1005</td>\n",
       "      <td>Axitinib</td>\n",
       "      <td>G3</td>\n",
       "      <td>L1700-384-01</td>\n",
       "      <td>386.47</td>\n",
       "      <td>319460-85-0</td>\n",
       "      <td>c-Kit,PDGFR,VEGFR</td>\n",
       "      <td>35</td>\n",
       "      <td>90.56330375</td>\n",
       "      <td>&lt;1</td>\n",
       "      <td>...</td>\n",
       "      <td>Protein Tyrosine Kinase</td>\n",
       "      <td>C22H18N4OS</td>\n",
       "      <td>free base</td>\n",
       "      <td>AG 013736</td>\n",
       "      <td>CNC(=O)C1=CC=CC=C1SC1=CC2=C(C=C1)C(\\C=C\\C1=CC=...</td>\n",
       "      <td>4.492</td>\n",
       "      <td>3.0</td>\n",
       "      <td>2.0</td>\n",
       "      <td>5.0</td>\n",
       "      <td>386.47000</td>\n",
       "    </tr>\n",
       "    <tr>\n",
       "      <th>4</th>\n",
       "      <td>S1006</td>\n",
       "      <td>Saracatinib (AZD0530)</td>\n",
       "      <td>I3</td>\n",
       "      <td>L1700-384-01</td>\n",
       "      <td>542.03</td>\n",
       "      <td>379231-04-6</td>\n",
       "      <td>Src</td>\n",
       "      <td>35</td>\n",
       "      <td>64.57207166</td>\n",
       "      <td>&lt;1</td>\n",
       "      <td>...</td>\n",
       "      <td>Angiogenesis</td>\n",
       "      <td>C27H32ClN5O5</td>\n",
       "      <td>free base</td>\n",
       "      <td>NaN</td>\n",
       "      <td>CN1CCN(CCOC2=CC(OC3CCOCC3)=C3C(NC4=C(Cl)C=CC5=...</td>\n",
       "      <td>3.814</td>\n",
       "      <td>7.0</td>\n",
       "      <td>1.0</td>\n",
       "      <td>8.0</td>\n",
       "      <td>542.03000</td>\n",
       "    </tr>\n",
       "  </tbody>\n",
       "</table>\n",
       "<p>5 rows × 23 columns</p>\n",
       "</div>"
      ],
      "text/plain": [
       "  CatalogNumber            ProductName PlateLocation  384PlateName    M.w.  \\\n",
       "0         S1002                ABT-737            A3  L1700-384-01  813.43   \n",
       "1         S1003    Linifanib (ABT-869)            C3  L1700-384-01  375.41   \n",
       "2         S1004    Veliparib (ABT-888)            E3  L1700-384-01  244.29   \n",
       "3         S1005               Axitinib            G3  L1700-384-01  386.47   \n",
       "4         S1006  Saracatinib (AZD0530)            I3  L1700-384-01  542.03   \n",
       "\n",
       "     CASNumber              Target  DMSO(mg/mL)MaxSolubility   \\\n",
       "0  852808-04-9     Bcl-2,Autophagy                        100   \n",
       "1  796967-16-3  CSF-1R,PDGFR,VEGFR                         75   \n",
       "2  912444-00-9                PARP                         17   \n",
       "3  319460-85-0   c-Kit,PDGFR,VEGFR                         35   \n",
       "4  379231-04-6                 Src                         35   \n",
       "\n",
       "  DMSO(mM)MaxSolubility water(mg/mL)MaxSolubility  ...  \\\n",
       "0           122.9362084                        <1  ...   \n",
       "1           199.7815721                        <1  ...   \n",
       "2           69.58942241                        <1  ...   \n",
       "3           90.56330375                        <1  ...   \n",
       "4           64.57207166                        <1  ...   \n",
       "\n",
       "                   Pathway         Formula       Form        Synonyms  \\\n",
       "0                Apoptosis  C42H45ClN6O5S2  free base             NaN   \n",
       "1  Protein Tyrosine Kinase      C21H18FN5O  free base  AL39324,RG3635   \n",
       "2               DNA Damage       C13H16N4O  free base      NSC 737664   \n",
       "3  Protein Tyrosine Kinase      C22H18N4OS  free base       AG 013736   \n",
       "4             Angiogenesis    C27H32ClN5O5  free base             NaN   \n",
       "\n",
       "                                              SMILES  ALogP HBA_Count  \\\n",
       "0  CN(C)CC[C@H](CSC1=CC=CC=C1)NC1=CC=C(C=C1[N+]([...  8.198       3.0   \n",
       "1  CC1=CC(NC(=O)NC2=CC=C(C=C2)C2=C3C(N)=NNC3=CC=C...  4.169       2.0   \n",
       "2  C[C@@]1(CCCN1)C1=NC2=C(C=CC=C2N1)C(N)=O |r,c:1...  0.986       2.0   \n",
       "3  CNC(=O)C1=CC=CC=C1SC1=CC2=C(C=C1)C(\\C=C\\C1=CC=...  4.492       3.0   \n",
       "4  CN1CCN(CCOC2=CC(OC3CCOCC3)=C3C(NC4=C(Cl)C=CC5=...  3.814       7.0   \n",
       "\n",
       "  HBD_Count  RotatableBond    MW REID  \n",
       "0       2.0           16.0  813.43000  \n",
       "1       4.0            3.0  375.41000  \n",
       "2       3.0            2.0  244.29000  \n",
       "3       2.0            5.0  386.47000  \n",
       "4       1.0            8.0  542.03000  \n",
       "\n",
       "[5 rows x 23 columns]"
      ]
     },
     "execution_count": 10,
     "metadata": {},
     "output_type": "execute_result"
    }
   ],
   "source": [
    "source = sfc.selected\n",
    "out = fc.selected_path\n",
    "sp = pd.read_csv(source, encoding='utf-8')\n",
    "sp.head()"
   ]
  },
  {
   "cell_type": "code",
   "execution_count": 20,
   "metadata": {
    "scrolled": true
   },
   "outputs": [],
   "source": [
    "def make_compound(destplate, max_back, dilute, sId, sW, comp, startCol, startRow,  steps=5):\n",
    "    \"\"\"\n",
    "    Function for button to make a compound\n",
    "    args:\n",
    "        destplate - str destination plate ID\n",
    "        max_back - float max backfill vol\n",
    "        dilute - str dilution step 1/2, log2 etc. NOTE: only 1/2 is implemented\n",
    "        sID - str source plate ID\n",
    "        sW - str source well ID\n",
    "        comp - str compound name\n",
    "        (startCol, startRow) - tuple of first col and row of compound col:[A-P][0-15], row:[2-24]\n",
    "        steps - int number of dilution steps\n",
    "    retruns:\n",
    "        dc - dataframe of compound\n",
    "    \"\"\"\n",
    "    transVol, backVol = platemapper.cal_transVol(max_back, dilute, steps)\n",
    "    destWell = platemapper.get_wellIDs(startCol, steps, startRow)\n",
    "    dc = platemapper.generate_df(sourceId=sId, sourceWell=sW, destID=destplate, compound=comp, steps=steps, \n",
    "                                 destWell=destWell, transVol=transVol, backVol=backVol)\n",
    "    return dc\n",
    "\n",
    "def button_handler(sender):\n",
    "    \"\"\"\n",
    "    Handler function for submit button\n",
    "    pulls values from the 'ui' and calls make_compound \n",
    "    then loads the dataframe into the compounds list\n",
    "    \"\"\"\n",
    "    # values from sourceplate\n",
    "    df = sp.loc[sp['ProductName'] == nameDrop.value]\n",
    "    sId, sW, comp, = df['384PlateName'].values[0],df['PlateLocation'].values[0],df['ProductName'].values[0]\n",
    "    \n",
    "    # user input values\n",
    "    dilute = diluteDrop.value\n",
    "    destplate = destField.value\n",
    "    max_back = int(float(fillField.value))\n",
    "    dilute = diluteDrop.value\n",
    "        \n",
    "    # add that bad boi\n",
    "    compounds.append(make_compound(destplate, max_back, dilute, sId, sW, comp, colBound.value, rowBound.value))"
   ]
  },
  {
   "cell_type": "code",
   "execution_count": 21,
   "metadata": {},
   "outputs": [
    {
     "data": {
      "application/vnd.jupyter.widget-view+json": {
       "model_id": "203cd0718b05495a97787aa2a8b22579",
       "version_major": 2,
       "version_minor": 0
      },
      "text/plain": [
       "Dropdown(description='Compound', options=('ABT-737', 'Linifanib (ABT-869)', 'Veliparib (ABT-888)', 'Axitinib',…"
      ]
     },
     "metadata": {},
     "output_type": "display_data"
    },
    {
     "data": {
      "application/vnd.jupyter.widget-view+json": {
       "model_id": "b220930f31a44b669220c1f4dc03a7f7",
       "version_major": 2,
       "version_minor": 0
      },
      "text/plain": [
       "Dropdown(description='Select Dilute amount', options=('log2', '1/2'), value=None)"
      ]
     },
     "metadata": {},
     "output_type": "display_data"
    },
    {
     "data": {
      "application/vnd.jupyter.widget-view+json": {
       "model_id": "91b23d1ea7fb4edea9323fa1b59ade21",
       "version_major": 2,
       "version_minor": 0
      },
      "text/plain": [
       "Text(value='Destination Plate', description='Destination Plate')"
      ]
     },
     "metadata": {},
     "output_type": "display_data"
    },
    {
     "data": {
      "application/vnd.jupyter.widget-view+json": {
       "model_id": "2677a493e6f04a068a0875bba71d6e9e",
       "version_major": 2,
       "version_minor": 0
      },
      "text/plain": [
       "Text(value='Max Volume per Well', description='Transfer Vol')"
      ]
     },
     "metadata": {},
     "output_type": "display_data"
    },
    {
     "data": {
      "application/vnd.jupyter.widget-view+json": {
       "model_id": "56712c0de11d4d6babafaade0419ca94",
       "version_major": 2,
       "version_minor": 0
      },
      "text/plain": [
       "BoundedIntText(value=2, description='Column Index', max=22, min=2)"
      ]
     },
     "metadata": {},
     "output_type": "display_data"
    },
    {
     "data": {
      "application/vnd.jupyter.widget-view+json": {
       "model_id": "c972e8b43adf4c85b96d7b8d8b6a1ce1",
       "version_major": 2,
       "version_minor": 0
      },
      "text/plain": [
       "BoundedIntText(value=2, description='Row Index', max=16)"
      ]
     },
     "metadata": {},
     "output_type": "display_data"
    },
    {
     "data": {
      "application/vnd.jupyter.widget-view+json": {
       "model_id": "14848dea0083476fb656811cb7517f2d",
       "version_major": 2,
       "version_minor": 0
      },
      "text/plain": [
       "Button(description='Add Compound', style=ButtonStyle(), tooltip='Only press when ready')"
      ]
     },
     "metadata": {},
     "output_type": "display_data"
    }
   ],
   "source": [
    "\n",
    "# source Compound\n",
    "nameDrop = Dropdown(description='Compound',options=sp['ProductName'], value=None)\n",
    "\n",
    "# dilution step\n",
    "diluteDrop = Dropdown(description='Select Dilute amount',options=['log2', '1/2'], value=None)\n",
    "\n",
    "# destination plate id\n",
    "destField = Text(value='Destination Plate', description='Destination Plate')\n",
    "\n",
    "# max transfer vol\n",
    "fillField = Text(value='Max Volume per Well', description='Transfer Vol')\n",
    "\n",
    "\n",
    "# row and col selectors\n",
    "colBound = BoundedIntText(\n",
    "    value=2,\n",
    "    min=2,\n",
    "    max=22,\n",
    "    step=1,\n",
    "    description='Column Index'\n",
    ")\n",
    "\n",
    "rowBound = BoundedIntText(\n",
    "    value=2,\n",
    "    min=0,\n",
    "    max=16,\n",
    "    step=1,\n",
    "    description='Row Index'\n",
    ")\n",
    "\n",
    "# go button\n",
    "submit = Button(\n",
    "    description='Add Compound',\n",
    "    disabled=False,\n",
    "    button_style='',\n",
    "    tooltip='Only press when ready',\n",
    "    icon=''\n",
    ")\n",
    "\n",
    "compounds = []\n",
    "\n",
    "# bind button to handler\n",
    "submit.on_click(button_handler)\n",
    "\n",
    "# show me the bits\n",
    "display(nameDrop)\n",
    "display(diluteDrop)\n",
    "display(destField)\n",
    "display(fillField)\n",
    "display(colBound)\n",
    "display(rowBound)\n",
    "\n",
    "display(submit)"
   ]
  },
  {
   "cell_type": "code",
   "execution_count": 23,
   "metadata": {},
   "outputs": [
    {
     "data": {
      "text/plain": [
       "pandas.core.frame.DataFrame"
      ]
     },
     "execution_count": 23,
     "metadata": {},
     "output_type": "execute_result"
    }
   ],
   "source": [
    "type(compounds[0])"
   ]
  },
  {
   "cell_type": "code",
   "execution_count": null,
   "metadata": {},
   "outputs": [],
   "source": [
    "well_rows = ['A','B','C','D','E','F','G','H','I','J','K','L','M','N','O','P'] # non-control rows\n",
    "well_cols = [str(x) for x in range(1, 25)] # non-contorl columns\n",
    "\n",
    "def make_control(destID):\n",
    "    \"\"\"\n",
    "    creates controls and stores them in a dataframe\n",
    "    assumes that control schema is universal\n",
    "    args:\n",
    "        destID - The Plate ID\n",
    "    returns:\n",
    "        df - dataframe of positvie and negative controls \n",
    "    \"\"\"\n",
    "    neg_row, pos_row = [],[]\n",
    "    for y in well_rows:\n",
    "        for x in ['1','2']:\n",
    "            neg_row.append(y+x)\n",
    "        for j in ['23','24']:\n",
    "            pos_row.append(y+j)\n",
    "            \n",
    "    neg = pd.DataFrame.from_dict({\n",
    "        'sourceID':['NC' for i in range(len(neg_row))],\n",
    "        'sourceWell':['NC' for i in range(len(neg_row))],\n",
    "        'destID':[destID for i in range(len(neg_row))], # destination plate ID\n",
    "        'destWell':neg_row,\n",
    "        'transferVol':[0.0 for i in range(len(neg_row))],\n",
    "        'backfillVol':[0.0 for i in range(len(neg_row))],\n",
    "        'compound':['NC' for i in range(len(neg_row))]\n",
    "    })\n",
    "    \n",
    "    pos = pd.DataFrame({\n",
    "        'sourceID':['PC' for i in range(len(pos_row))],\n",
    "        'sourceWell':['PC' for i in range(len(pos_row))],\n",
    "        'destID':[destID for i in range(len(pos_row))], # destination plate ID\n",
    "        'destWell':pos_row,\n",
    "        'transferVol':[0.0 for i in range(len(pos_row))],\n",
    "        'backfillVol':[0.0 for i in range(len(pos_row))],\n",
    "        'compound':['PC' for i in range(len(pos_row))]\n",
    "    })\n",
    "    \n",
    "    df = pd.concat([neg, pos])\n",
    "    \n",
    "    return df"
   ]
  },
  {
   "cell_type": "code",
   "execution_count": null,
   "metadata": {},
   "outputs": [],
   "source": [
    "df = make_control('someplate')"
   ]
  },
  {
   "cell_type": "code",
   "execution_count": null,
   "metadata": {},
   "outputs": [],
   "source": [
    "plate = pd.concat([df,dt])"
   ]
  },
  {
   "cell_type": "code",
   "execution_count": null,
   "metadata": {},
   "outputs": [],
   "source": [
    "plate.head()"
   ]
  },
  {
   "cell_type": "code",
   "execution_count": null,
   "metadata": {
    "scrolled": true
   },
   "outputs": [],
   "source": [
    "piv = plate\n",
    "piv[['well', 'wellNum']] = plate['destWell'].str.extract('([A-P])([0-9]{1,2})',expand=True)\n",
    "table = pd.pivot_table(piv, values='transferVol', index='well', columns='wellNum')"
   ]
  },
  {
   "cell_type": "code",
   "execution_count": 4,
   "metadata": {},
   "outputs": [
    {
     "data": {
      "application/vnd.jupyter.widget-view+json": {
       "model_id": "f2785f1066a14f5cb6a3d648d5e605d9",
       "version_major": 2,
       "version_minor": 0
      },
      "text/plain": [
       "Text(value='')"
      ]
     },
     "metadata": {},
     "output_type": "display_data"
    },
    {
     "data": {
      "application/vnd.jupyter.widget-view+json": {
       "model_id": "2fe2af8f57b042eaa8ec657310496c0d",
       "version_major": 2,
       "version_minor": 0
      },
      "text/plain": [
       "Text(value='')"
      ]
     },
     "metadata": {},
     "output_type": "display_data"
    }
   ],
   "source": [
    "in_text = Text()\n",
    "out_text = Text()\n",
    "\n",
    "def bind_input(sender):\n",
    "    out_text.value = in_text.value\n",
    "\n",
    "in_text.on_submit(bind_input)\n",
    "\n",
    "display(in_text)\n",
    "\n",
    "display(out_text)"
   ]
  },
  {
   "cell_type": "code",
   "execution_count": 8,
   "metadata": {},
   "outputs": [
    {
     "data": {
      "application/vnd.jupyter.widget-view+json": {
       "model_id": "08e7e551283c4ba98cb271d6516ab8be",
       "version_major": 2,
       "version_minor": 0
      },
      "text/plain": [
       "Button(description='Add Compound', style=ButtonStyle(), tooltip='Only press when ready')"
      ]
     },
     "metadata": {},
     "output_type": "display_data"
    }
   ],
   "source": [
    "\n",
    "submit"
   ]
  },
  {
   "cell_type": "code",
   "execution_count": null,
   "metadata": {},
   "outputs": [],
   "source": []
  }
 ],
 "metadata": {
  "kernelspec": {
   "display_name": "Python 3",
   "language": "python",
   "name": "python3"
  },
  "language_info": {
   "codemirror_mode": {
    "name": "ipython",
    "version": 3
   },
   "file_extension": ".py",
   "mimetype": "text/x-python",
   "name": "python",
   "nbconvert_exporter": "python",
   "pygments_lexer": "ipython3",
   "version": "3.6.9"
  }
 },
 "nbformat": 4,
 "nbformat_minor": 4
}
