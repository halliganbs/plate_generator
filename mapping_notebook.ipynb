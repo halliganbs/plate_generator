{
 "cells": [
  {
   "cell_type": "markdown",
   "metadata": {},
   "source": [
    "# Plate Mapper\n",
    "\n",
    "<!-- ![Sexton Labs](images/sextonlabs.png =336x410)\n",
    " -->\n",
    "<img src=\"images/sextonlabs.png\" width=\"20%\">\n",
    "\n",
    "## Instructions\n",
    "\n",
    "1. run first cell and selected inputs `csv` and output directory\n",
    "2. Fill out UI elements for compound\n",
    "3. Hit the go button\n",
    "4. Repeat for other compounds\n",
    "5. Run other cells, I'll add a button when I care\n",
    "6. Change save name for csv and run cell"
   ]
  },
  {
   "cell_type": "code",
   "execution_count": null,
   "metadata": {},
   "outputs": [],
   "source": [
    "!git clone https://github.com/halliganbs/plate_generator.git\n",
    "!pip install -r plate_generator/requirements.txt"
   ]
  },
  {
   "cell_type": "code",
   "execution_count": null,
   "metadata": {
    "scrolled": true
   },
   "outputs": [],
   "source": [
    "import platemapper as mapper\n",
    "import pandas as pd\n",
    "import re # REEEEE\n",
    "\n",
    "from IPython.display import *\n",
    "import ipywidgets as widgets\n",
    "from ipywidgets import *\n",
    "\n",
    "import seaborn as sns\n",
    "import matplotlib as plt\n",
    "\n",
    "pd.options.display.max_columns = None\n",
    "\n",
    "sfc = mapper.make_chooser('Select source csv', False)\n",
    "fc = mapper.make_chooser('output directory')\n",
    "display(VBox([sfc,fc]))"
   ]
  },
  {
   "cell_type": "code",
   "execution_count": null,
   "metadata": {
    "scrolled": false
   },
   "outputs": [],
   "source": [
    "source = sfc.selected\n",
    "out = fc.selected_path\n",
    "plate = mapper.Plate(source, out)\n",
    "display(VBox(plate.get_elements()))"
   ]
  },
  {
   "cell_type": "markdown",
   "metadata": {},
   "source": [
    "**Run following cell to generate plate and save to `.csv`**"
   ]
  },
  {
   "cell_type": "code",
   "execution_count": null,
   "metadata": {},
   "outputs": [],
   "source": [
    "plate.gen_plate(ptype=plate.typeDrop.value)\n",
    "display(plate.plate)"
   ]
  },
  {
   "cell_type": "markdown",
   "metadata": {},
   "source": [
    "**Save Plate**"
   ]
  },
  {
   "cell_type": "code",
   "execution_count": null,
   "metadata": {},
   "outputs": [],
   "source": [
    "plate.save_plate()"
   ]
  },
  {
   "cell_type": "markdown",
   "metadata": {},
   "source": [
    "**Run last cell to create, display and save plate table to `csv`**"
   ]
  },
  {
   "cell_type": "code",
   "execution_count": null,
   "metadata": {},
   "outputs": [],
   "source": [
    "plate.make_table()\n",
    "display(plate.table)"
   ]
  },
  {
   "cell_type": "markdown",
   "metadata": {},
   "source": [
    "**Clear Current Plate**"
   ]
  },
  {
   "cell_type": "code",
   "execution_count": null,
   "metadata": {},
   "outputs": [],
   "source": [
    "plate.clear_plate()"
   ]
  },
  {
   "cell_type": "code",
   "execution_count": null,
   "metadata": {},
   "outputs": [],
   "source": []
  }
 ],
 "metadata": {
  "kernelspec": {
   "display_name": "Python 3",
   "language": "python",
   "name": "python3"
  },
  "language_info": {
   "codemirror_mode": {
    "name": "ipython",
    "version": 3
   },
   "file_extension": ".py",
   "mimetype": "text/x-python",
   "name": "python",
   "nbconvert_exporter": "python",
   "pygments_lexer": "ipython3",
   "version": "3.6.9"
  }
 },
 "nbformat": 4,
 "nbformat_minor": 4
}